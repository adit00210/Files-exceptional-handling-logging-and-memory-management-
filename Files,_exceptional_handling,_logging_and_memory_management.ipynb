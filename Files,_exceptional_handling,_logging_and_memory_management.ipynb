{
  "nbformat": 4,
  "nbformat_minor": 0,
  "metadata": {
    "colab": {
      "provenance": []
    },
    "kernelspec": {
      "name": "python3",
      "display_name": "Python 3"
    },
    "language_info": {
      "name": "python"
    }
  },
  "cells": [
    {
      "cell_type": "markdown",
      "source": [
        "1. What is the difference between interpreted and compiled languages?\n",
        "    - Interpreted languages (like Python) execute code line-by-line using an interpreter.\n",
        "\n",
        "   Compiled languages (like C++) are translated into machine code before execution using a compiler.\n",
        "\n",
        "   Interpreted languages are easier for debugging and development, while compiled languages are faster in execution.\n",
        "\n",
        "2. What is exception handling in Python?\n",
        "   - Exception handling in Python is used to catch and manage runtime errors using try, except, else, and finally blocks, allowing the program to continue running instead of crashing.\n",
        "\n",
        "3. What is the purpose of the finally block in exception handling?\n",
        "   - The finally block contains code that is always executed, whether or not an exception occurred. It is typically used for cleanup tasks like closing files or releasing resources.\n",
        "\n",
        "4. What is logging in Python?\n",
        "   - Logging is a way to track events that happen when software runs. Python’s logging module allows you to log messages for debugging, error tracking, or audit trails.\n",
        "\n",
        "5. What is the significance of the __del__ method in Python?\n",
        "    - __del__ is a destructor method called when an object is about to be destroyed. It's used to release resources like files or network connections before the object is deleted from memory.\n",
        "\n",
        "6. What is the difference between import and from ... import in Python?\n",
        "\n",
        "    - import module imports the entire module.\n",
        "\n",
        "  from module import function imports only specific attributes or functions from a module.\n",
        "\n",
        "7. How can you handle multiple exceptions in Python?\n",
        "\n",
        "    - You can handle multiple exceptions by:\n",
        "  try:\n",
        "      # code\n",
        "  except (TypeError, ValueError) as e:\n",
        "      print(e)\n",
        "  Or use multiple except blocks for different exception types.\n",
        "\n",
        "8. What is the purpose of the with statement when handling files in Python?\n",
        "   - The with statement ensures that files are properly closed after being used, even if an exception occurs. It simplifies file handling:\n",
        "\n",
        "\n",
        "  with open(\"file.txt\") as f:\n",
        "      data = f.read()\n",
        "\n",
        "9. What is the difference between multithreading and multiprocessing?\n",
        "\n",
        "- Multithreading: Multiple threads within a single process; useful for I/O-bound tasks.\n",
        "\n",
        "- Multiprocessing: Multiple processes with separate memory; better for CPU-bound tasks.\n",
        "\n",
        "10. What are the advantages of using logging in a program?\n",
        "\n",
        "- Helps in debugging and tracking program execution\n",
        "\n",
        "- Provides error reports and audit trails\n",
        "\n",
        "- Allows different log levels (info, debug, warning, error, critical)\n",
        "\n",
        "11. What is memory management in Python?\n",
        "  - Memory management in Python involves the allocation and deallocation of memory using reference counting and garbage collection to manage object lifetimes and free unused memory.\n",
        "\n",
        "12. What are the basic steps involved in exception handling in Python?\n",
        "\n",
        "- Use try to write the code that may raise an error.\n",
        "\n",
        "- Use except to catch the exception.\n",
        "\n",
        "- Optionally use else to execute code if no error occurs.\n",
        "\n",
        "- Use finally for cleanup actions.\n",
        "\n",
        "13. Why is memory management important in Python?\n",
        "  - Efficient memory management prevents memory leaks, ensures optimal performance, and allows better use of system resources.\n",
        "\n",
        "14. What is the role of try and except in exception handling?\n",
        "\n",
        "  - try contains the code that might raise an exception.\n",
        "\n",
        "  except catches and handles the error so the program can continue or fail gracefully.\n",
        "\n",
        "15. How does Python's garbage collection system work?\n",
        " - Python uses automatic garbage collection via reference counting and a cyclic garbage collector to detect and clean up unused objects in memory.\n",
        "\n",
        "16. What is the purpose of the else block in exception handling?\n",
        "  - The else block is executed if the try block does not raise an exception. It helps separate error-free logic from error-handling logic.\n",
        "\n",
        "17. What are the common logging levels in Python?\n",
        "\n",
        "- DEBUG: Detailed information for debugging\n",
        "\n",
        "- INFO: General information\n",
        "\n",
        "- WARNING: Something unexpected, but not an error\n",
        "\n",
        "- ERROR: Serious problem\n",
        "\n",
        "- CRITICAL: Very serious error\n",
        "\n",
        "18. What is the difference between os.fork() and multiprocessing in Python?\n",
        "  - os.fork() is a low-level method for creating child processes on Unix-based systems.\n",
        "\n",
        "  - multiprocessing is a cross-platform, high-level API for creating and managing processes.\n",
        "\n",
        "19. What is the importance of closing a file in Python?\n",
        "  - Closing a file releases system resources, ensures that data is saved, and prevents file corruption or memory leaks.\n",
        "\n",
        "20. What is the difference between file.read() and file.readline() in Python?\n",
        "\n",
        "- file.read() reads the entire file content.\n",
        "\n",
        "- file.readline() reads one line at a time, which is more memory-efficient for large files.\n",
        "\n",
        "21. What is the logging module in Python used for?\n",
        "   - The logging module is used to generate and manage logs, including error reports, system diagnostics, and runtime messages.\n",
        "\n",
        "22. What is the os module in Python used for in file handling?\n",
        "   - The os module provides functions to interact with the operating system like creating, deleting, or navigating directories and files.\n",
        "\n",
        "23. What are the challenges associated with memory management in Python?\n",
        "\n",
        "\n",
        "- Managing reference cycles\n",
        "\n",
        "- Large data structures remaining in memory\n",
        "\n",
        "- Manual management of external resources\n",
        "\n",
        "- Difficulty in debugging memory leaks\n",
        "\n",
        "24. How do you raise an exception manually in Python?\n",
        "\n",
        "     - You can raise exceptions using the raise keyword:\n",
        "   raise ValueError(\"Invalid input\")\n",
        "\n",
        "25. Why is it important to use multithreading in certain applications?\n",
        "  - Multithreading is useful for I/O-bound tasks like file I/O, network requests, or GUI responsiveness, allowing parallel operations without blocking the main program flow."
      ],
      "metadata": {
        "id": "jCqYInX0PQAa"
      }
    },
    {
      "cell_type": "markdown",
      "source": [
        "1. How can you open a file for writing in Python and write a string to it?"
      ],
      "metadata": {
        "id": "pt8K8ym2RTWN"
      }
    },
    {
      "cell_type": "code",
      "source": [
        "with open('example.txt', 'w') as file:\n",
        "    file.write(\"Hello, world!\")"
      ],
      "metadata": {
        "id": "06ZqFPHvRndt"
      },
      "execution_count": 1,
      "outputs": []
    },
    {
      "cell_type": "markdown",
      "source": [
        "2. Write a Python program to read the contents of a file and print each line."
      ],
      "metadata": {
        "id": "6O8ievoqR2ld"
      }
    },
    {
      "cell_type": "code",
      "source": [
        "with open('example.txt', 'r') as file:\n",
        "    for line in file:\n",
        "        print(line.strip())"
      ],
      "metadata": {
        "colab": {
          "base_uri": "https://localhost:8080/"
        },
        "id": "YkpSyeFIR6vp",
        "outputId": "32294aed-0224-44ee-bc27-96022faad169"
      },
      "execution_count": 2,
      "outputs": [
        {
          "output_type": "stream",
          "name": "stdout",
          "text": [
            "Hello, world!\n"
          ]
        }
      ]
    },
    {
      "cell_type": "markdown",
      "source": [
        "3. How would you handle a case where the file doesn't exist while trying to open it for reading?"
      ],
      "metadata": {
        "id": "pYn5mS--R-kr"
      }
    },
    {
      "cell_type": "code",
      "source": [
        "try:\n",
        "    with open('nofile.txt', 'r') as file:\n",
        "        content = file.read()\n",
        "except FileNotFoundError:\n",
        "    print(\"File not found.\")"
      ],
      "metadata": {
        "colab": {
          "base_uri": "https://localhost:8080/"
        },
        "id": "UW8dVZ9NSAsl",
        "outputId": "0e52fa1c-9367-4dd4-8253-096e1f25d805"
      },
      "execution_count": 3,
      "outputs": [
        {
          "output_type": "stream",
          "name": "stdout",
          "text": [
            "File not found.\n"
          ]
        }
      ]
    },
    {
      "cell_type": "markdown",
      "source": [
        "4. Write a Python script that reads from one file and writes its content to another file."
      ],
      "metadata": {
        "id": "nUXgpgr8SD_B"
      }
    },
    {
      "cell_type": "code",
      "source": [
        "with open('source.txt', 'r') as src, open('destination.txt', 'w') as dest:\n",
        "    for line in src:\n",
        "        dest.write(line)\n",
        "\n",
        "# Verify the content of the destination file\n",
        "with open('destination.txt', 'r') as file:\n",
        "    print(file.read())"
      ],
      "metadata": {
        "colab": {
          "base_uri": "https://localhost:8080/",
          "height": 176
        },
        "id": "qOaAdJS1SFv5",
        "outputId": "01d79dab-d47b-4a3c-d86b-6d4b9b99200d"
      },
      "execution_count": 4,
      "outputs": [
        {
          "output_type": "error",
          "ename": "FileNotFoundError",
          "evalue": "[Errno 2] No such file or directory: 'source.txt'",
          "traceback": [
            "\u001b[0;31m---------------------------------------------------------------------------\u001b[0m",
            "\u001b[0;31mFileNotFoundError\u001b[0m                         Traceback (most recent call last)",
            "\u001b[0;32m/tmp/ipython-input-4-1361579781.py\u001b[0m in \u001b[0;36m<cell line: 0>\u001b[0;34m()\u001b[0m\n\u001b[0;32m----> 1\u001b[0;31m \u001b[0;32mwith\u001b[0m \u001b[0mopen\u001b[0m\u001b[0;34m(\u001b[0m\u001b[0;34m'source.txt'\u001b[0m\u001b[0;34m,\u001b[0m \u001b[0;34m'r'\u001b[0m\u001b[0;34m)\u001b[0m \u001b[0;32mas\u001b[0m \u001b[0msrc\u001b[0m\u001b[0;34m,\u001b[0m \u001b[0mopen\u001b[0m\u001b[0;34m(\u001b[0m\u001b[0;34m'destination.txt'\u001b[0m\u001b[0;34m,\u001b[0m \u001b[0;34m'w'\u001b[0m\u001b[0;34m)\u001b[0m \u001b[0;32mas\u001b[0m \u001b[0mdest\u001b[0m\u001b[0;34m:\u001b[0m\u001b[0;34m\u001b[0m\u001b[0;34m\u001b[0m\u001b[0m\n\u001b[0m\u001b[1;32m      2\u001b[0m     \u001b[0;32mfor\u001b[0m \u001b[0mline\u001b[0m \u001b[0;32min\u001b[0m \u001b[0msrc\u001b[0m\u001b[0;34m:\u001b[0m\u001b[0;34m\u001b[0m\u001b[0;34m\u001b[0m\u001b[0m\n\u001b[1;32m      3\u001b[0m         \u001b[0mdest\u001b[0m\u001b[0;34m.\u001b[0m\u001b[0mwrite\u001b[0m\u001b[0;34m(\u001b[0m\u001b[0mline\u001b[0m\u001b[0;34m)\u001b[0m\u001b[0;34m\u001b[0m\u001b[0;34m\u001b[0m\u001b[0m\n",
            "\u001b[0;31mFileNotFoundError\u001b[0m: [Errno 2] No such file or directory: 'source.txt'"
          ]
        }
      ]
    },
    {
      "cell_type": "code",
      "metadata": {
        "id": "a0635f7b"
      },
      "source": [
        "with open('source.txt', 'w') as file:\n",
        "    file.write(\"This is the source file.\")"
      ],
      "execution_count": 5,
      "outputs": []
    },
    {
      "cell_type": "markdown",
      "source": [
        "5. How would you catch and handle a division by zero error in Python?"
      ],
      "metadata": {
        "id": "XVrWhgWqSYBd"
      }
    },
    {
      "cell_type": "code",
      "source": [
        "try:\n",
        "    result = 10 / 0\n",
        "except ZeroDivisionError:\n",
        "    print(\"Cannot divide by zero.\")"
      ],
      "metadata": {
        "colab": {
          "base_uri": "https://localhost:8080/"
        },
        "id": "dFrSj5cISa6f",
        "outputId": "2f0ecf30-13ff-40a3-9da0-b665a47611b5"
      },
      "execution_count": 6,
      "outputs": [
        {
          "output_type": "stream",
          "name": "stdout",
          "text": [
            "Cannot divide by zero.\n"
          ]
        }
      ]
    },
    {
      "cell_type": "markdown",
      "source": [
        "6. Write a Python program that logs an error message to a log file when a division by zero exception occurs."
      ],
      "metadata": {
        "id": "G3kwFPRaSe4m"
      }
    },
    {
      "cell_type": "code",
      "source": [
        "import logging\n",
        "\n",
        "logging.basicConfig(filename='errors.log', level=logging.ERROR)\n",
        "\n",
        "try:\n",
        "    x = 1 / 0\n",
        "except ZeroDivisionError as e:\n",
        "    logging.error(\"Division by zero error: %s\", e)"
      ],
      "metadata": {
        "colab": {
          "base_uri": "https://localhost:8080/"
        },
        "id": "gzZ7oZ8lSfap",
        "outputId": "293146e7-262f-4fc8-f117-5cb300c379cb"
      },
      "execution_count": 7,
      "outputs": [
        {
          "output_type": "stream",
          "name": "stderr",
          "text": [
            "ERROR:root:Division by zero error: division by zero\n"
          ]
        }
      ]
    },
    {
      "cell_type": "markdown",
      "source": [
        "7. How do you log information at different levels (INFO, ERROR, WARNING) in Python using the logging module?"
      ],
      "metadata": {
        "id": "etspJOaJSi7x"
      }
    },
    {
      "cell_type": "code",
      "source": [
        "import logging\n",
        "\n",
        "logging.basicConfig(level=logging.DEBUG)\n",
        "logging.info(\"This is an info message.\")\n",
        "logging.warning(\"This is a warning.\")\n",
        "logging.error(\"This is an error.\")"
      ],
      "metadata": {
        "colab": {
          "base_uri": "https://localhost:8080/"
        },
        "id": "7mHvb1UQSjVp",
        "outputId": "a23c1103-174a-47b9-8c44-e7457354b5a1"
      },
      "execution_count": 8,
      "outputs": [
        {
          "output_type": "stream",
          "name": "stderr",
          "text": [
            "WARNING:root:This is a warning.\n",
            "ERROR:root:This is an error.\n"
          ]
        }
      ]
    },
    {
      "cell_type": "markdown",
      "source": [
        "8. Write a program to handle a file opening error using exception handling."
      ],
      "metadata": {
        "id": "M7Zqeoz9Smxp"
      }
    },
    {
      "cell_type": "code",
      "source": [
        "try:\n",
        "    with open('nonexistent.txt', 'r') as f:\n",
        "        data = f.read()\n",
        "except IOError:\n",
        "    print(\"Error opening file.\")"
      ],
      "metadata": {
        "colab": {
          "base_uri": "https://localhost:8080/"
        },
        "id": "VtNVUF-iSnER",
        "outputId": "1845b8b1-c663-4022-a4ad-3f8702cce8f2"
      },
      "execution_count": 9,
      "outputs": [
        {
          "output_type": "stream",
          "name": "stdout",
          "text": [
            "Error opening file.\n"
          ]
        }
      ]
    },
    {
      "cell_type": "markdown",
      "source": [
        "9. How can you read a file line by line and store its content in a list in Python?"
      ],
      "metadata": {
        "id": "TL1Ua8GvSptU"
      }
    },
    {
      "cell_type": "code",
      "source": [
        "with open('file.txt', 'r') as f:\n",
        "    lines = f.readlines()"
      ],
      "metadata": {
        "colab": {
          "base_uri": "https://localhost:8080/",
          "height": 159
        },
        "id": "VgEZ1j2TSqA1",
        "outputId": "9b0456ba-c4b2-4773-e41c-31d833ef3195"
      },
      "execution_count": 10,
      "outputs": [
        {
          "output_type": "error",
          "ename": "FileNotFoundError",
          "evalue": "[Errno 2] No such file or directory: 'file.txt'",
          "traceback": [
            "\u001b[0;31m---------------------------------------------------------------------------\u001b[0m",
            "\u001b[0;31mFileNotFoundError\u001b[0m                         Traceback (most recent call last)",
            "\u001b[0;32m/tmp/ipython-input-10-1182317721.py\u001b[0m in \u001b[0;36m<cell line: 0>\u001b[0;34m()\u001b[0m\n\u001b[0;32m----> 1\u001b[0;31m \u001b[0;32mwith\u001b[0m \u001b[0mopen\u001b[0m\u001b[0;34m(\u001b[0m\u001b[0;34m'file.txt'\u001b[0m\u001b[0;34m,\u001b[0m \u001b[0;34m'r'\u001b[0m\u001b[0;34m)\u001b[0m \u001b[0;32mas\u001b[0m \u001b[0mf\u001b[0m\u001b[0;34m:\u001b[0m\u001b[0;34m\u001b[0m\u001b[0;34m\u001b[0m\u001b[0m\n\u001b[0m\u001b[1;32m      2\u001b[0m     \u001b[0mlines\u001b[0m \u001b[0;34m=\u001b[0m \u001b[0mf\u001b[0m\u001b[0;34m.\u001b[0m\u001b[0mreadlines\u001b[0m\u001b[0;34m(\u001b[0m\u001b[0;34m)\u001b[0m\u001b[0;34m\u001b[0m\u001b[0;34m\u001b[0m\u001b[0m\n",
            "\u001b[0;31mFileNotFoundError\u001b[0m: [Errno 2] No such file or directory: 'file.txt'"
          ]
        }
      ]
    },
    {
      "cell_type": "markdown",
      "source": [
        "10. How can you append data to an existing file in Python?"
      ],
      "metadata": {
        "id": "rFIeUjtoSvyr"
      }
    },
    {
      "cell_type": "code",
      "source": [
        "with open('file.txt', 'a') as f:\n",
        "    f.write(\"\\nNew line appended.\")"
      ],
      "metadata": {
        "id": "kZZuODLASwe1"
      },
      "execution_count": 12,
      "outputs": []
    },
    {
      "cell_type": "markdown",
      "source": [
        "11. Write a Python program that uses a try-except block to handle an error when attempting to access a dictionary key that doesn't exist."
      ],
      "metadata": {
        "id": "5-lwl0-VS15c"
      }
    },
    {
      "cell_type": "code",
      "source": [
        "my_dict = {\"name\": \"Alice\"}\n",
        "try:\n",
        "    print(my_dict[\"age\"])\n",
        "except KeyError:\n",
        "    print(\"Key not found.\")"
      ],
      "metadata": {
        "colab": {
          "base_uri": "https://localhost:8080/"
        },
        "id": "IObvNHXRS2Rj",
        "outputId": "b571f00d-ae1a-4255-ed9e-a76a7158ad68"
      },
      "execution_count": 13,
      "outputs": [
        {
          "output_type": "stream",
          "name": "stdout",
          "text": [
            "Key not found.\n"
          ]
        }
      ]
    },
    {
      "cell_type": "markdown",
      "source": [
        "12. Write a program that demonstrates using multiple except blocks to handle different types of exceptions."
      ],
      "metadata": {
        "id": "77LQ0GFuS5hL"
      }
    },
    {
      "cell_type": "code",
      "source": [
        "try:\n",
        "    a = [1, 2]\n",
        "    print(a[5])\n",
        "    b = 1 / 0\n",
        "except IndexError:\n",
        "    print(\"Index out of range.\")\n",
        "except ZeroDivisionError:\n",
        "    print(\"Cannot divide by zero.\")"
      ],
      "metadata": {
        "colab": {
          "base_uri": "https://localhost:8080/"
        },
        "id": "qkZ2VI2AS540",
        "outputId": "09aa4657-abce-40dc-b7df-02deca606264"
      },
      "execution_count": 14,
      "outputs": [
        {
          "output_type": "stream",
          "name": "stdout",
          "text": [
            "Index out of range.\n"
          ]
        }
      ]
    },
    {
      "cell_type": "markdown",
      "source": [
        "13. How would you check if a file exists before attempting to read it in Python?"
      ],
      "metadata": {
        "id": "QH2TFGhMS89T"
      }
    },
    {
      "cell_type": "code",
      "source": [
        "import os\n",
        "\n",
        "if os.path.exists('file.txt'):\n",
        "    with open('file.txt') as f:\n",
        "        print(f.read())\n",
        "else:\n",
        "    print(\"File doesn't exist.\")"
      ],
      "metadata": {
        "colab": {
          "base_uri": "https://localhost:8080/"
        },
        "id": "LgoJkNPHS9f3",
        "outputId": "6fcfe6ff-de66-46f0-e7c6-5839323b89a7"
      },
      "execution_count": 15,
      "outputs": [
        {
          "output_type": "stream",
          "name": "stdout",
          "text": [
            "\n",
            "New line appended.\n",
            "New line appended.\n"
          ]
        }
      ]
    },
    {
      "cell_type": "markdown",
      "source": [
        "14. Write a program that uses the logging module to log both informational and error messages."
      ],
      "metadata": {
        "id": "SijXDjbUTAe7"
      }
    },
    {
      "cell_type": "code",
      "source": [
        "import logging\n",
        "\n",
        "logging.basicConfig(filename='app.log', level=logging.INFO)\n",
        "logging.info(\"Program started\")\n",
        "\n",
        "try:\n",
        "    x = 10 / 0\n",
        "except ZeroDivisionError as e:\n",
        "    logging.error(\"Error occurred: %s\", e)"
      ],
      "metadata": {
        "colab": {
          "base_uri": "https://localhost:8080/"
        },
        "id": "NbCXdt_QTA1H",
        "outputId": "bf1cf3b7-6e7f-4645-b8bf-abda88aa545e"
      },
      "execution_count": 16,
      "outputs": [
        {
          "output_type": "stream",
          "name": "stderr",
          "text": [
            "ERROR:root:Error occurred: division by zero\n"
          ]
        }
      ]
    },
    {
      "cell_type": "markdown",
      "source": [
        "15. Write a Python program that prints the content of a file and handles the case when the file is empty."
      ],
      "metadata": {
        "id": "-XvVItjvTFXp"
      }
    },
    {
      "cell_type": "code",
      "source": [
        "with open('file.txt', 'r') as f:\n",
        "    content = f.read()\n",
        "    if not content:\n",
        "        print(\"File is empty.\")\n",
        "    else:\n",
        "        print(content)"
      ],
      "metadata": {
        "colab": {
          "base_uri": "https://localhost:8080/"
        },
        "id": "V87UW19uTF4d",
        "outputId": "a7e7c542-4ff5-43b6-b182-052c2221cc79"
      },
      "execution_count": 17,
      "outputs": [
        {
          "output_type": "stream",
          "name": "stdout",
          "text": [
            "\n",
            "New line appended.\n",
            "New line appended.\n"
          ]
        }
      ]
    },
    {
      "cell_type": "markdown",
      "source": [
        "16. Demonstrate how to use memory profiling to check the memory usage of a small program."
      ],
      "metadata": {
        "id": "ydz2B-2ATIxb"
      }
    },
    {
      "cell_type": "code",
      "source": [
        "from memory_profiler import profile\n",
        "\n",
        "@profile\n",
        "def memory_intensive_function():\n",
        "    print(\"Starting memory-intensive operation...\")\n",
        "    data = [x ** 2 for x in range(1000000)]  # Large list in memory\n",
        "    total = sum(data)\n",
        "    print(\"Sum of squares:\", total)\n",
        "    return total\n",
        "\n",
        "if __name__ == \"__main__\":\n",
        "    memory_intensive_function()"
      ],
      "metadata": {
        "colab": {
          "base_uri": "https://localhost:8080/"
        },
        "id": "xqtsxYCUTJNj",
        "outputId": "d4322e12-9e6d-40ca-99d6-a3907661492d"
      },
      "execution_count": 42,
      "outputs": [
        {
          "output_type": "stream",
          "name": "stdout",
          "text": [
            "ERROR: Could not find file /tmp/ipython-input-42-1405249833.py\n",
            "Starting memory-intensive operation...\n",
            "Sum of squares: 333332833333500000\n"
          ]
        }
      ]
    },
    {
      "cell_type": "markdown",
      "source": [
        "17. Write a Python program to create and write a list of numbers to a file, one number per line."
      ],
      "metadata": {
        "id": "KcuAvAjlTmDO"
      }
    },
    {
      "cell_type": "code",
      "source": [
        "numbers = [1, 2, 3, 4, 5]\n",
        "with open('numbers.txt', 'w') as f:\n",
        "    for number in numbers:\n",
        "        f.write(f\"{number}\\n\")"
      ],
      "metadata": {
        "id": "eG-iCeY6ToTp"
      },
      "execution_count": 21,
      "outputs": []
    },
    {
      "cell_type": "markdown",
      "source": [
        "18. How would you implement a basic logging setup that logs to a file with rotation after 1MB?"
      ],
      "metadata": {
        "id": "MlKgtJ9BTsCR"
      }
    },
    {
      "cell_type": "code",
      "source": [
        "import logging\n",
        "from logging.handlers import RotatingFileHandler\n",
        "\n",
        "handler = RotatingFileHandler('app.log', maxBytes=1024*1024, backupCount=5)\n",
        "logging.basicConfig(handlers=[handler], level=logging.INFO)\n",
        "\n",
        "logging.info(\"This is a test log entry.\")"
      ],
      "metadata": {
        "id": "KdcSb_iPTsTT"
      },
      "execution_count": 22,
      "outputs": []
    },
    {
      "cell_type": "markdown",
      "source": [
        "19. Write a program that handles both IndexError and KeyError using a try-except block."
      ],
      "metadata": {
        "id": "uv9tuqfTTvsr"
      }
    },
    {
      "cell_type": "code",
      "source": [
        "try:\n",
        "    lst = [1, 2]\n",
        "    print(lst[5])\n",
        "    d = {\"name\": \"Alice\"}\n",
        "    print(d[\"age\"])\n",
        "except IndexError:\n",
        "    print(\"List index out of range.\")\n",
        "except KeyError:\n",
        "    print(\"Key not found in dictionary.\")"
      ],
      "metadata": {
        "colab": {
          "base_uri": "https://localhost:8080/"
        },
        "id": "x3w1jofGTwCD",
        "outputId": "6f99a676-e599-4d91-c00e-3e0b8bcce30f"
      },
      "execution_count": 23,
      "outputs": [
        {
          "output_type": "stream",
          "name": "stdout",
          "text": [
            "List index out of range.\n"
          ]
        }
      ]
    },
    {
      "cell_type": "markdown",
      "source": [
        "20. How would you open a file and read its contents using a context manager in Python?"
      ],
      "metadata": {
        "id": "nW8W0EeXTzlv"
      }
    },
    {
      "cell_type": "code",
      "source": [
        "with open('file.txt', 'r') as file:\n",
        "    content = file.read()\n",
        "    print(content)"
      ],
      "metadata": {
        "colab": {
          "base_uri": "https://localhost:8080/"
        },
        "id": "tW6qr4gbT1sJ",
        "outputId": "b60d3ac7-8ccd-44d1-e7ab-2407753058de"
      },
      "execution_count": 24,
      "outputs": [
        {
          "output_type": "stream",
          "name": "stdout",
          "text": [
            "\n",
            "New line appended.\n",
            "New line appended.\n"
          ]
        }
      ]
    },
    {
      "cell_type": "markdown",
      "source": [
        "21. Write a Python program that reads a file and prints the number of occurrences of a specific word."
      ],
      "metadata": {
        "id": "PaXVcKUtT8BP"
      }
    },
    {
      "cell_type": "code",
      "source": [
        "word = \"Python\"\n",
        "count = 0\n",
        "with open('file.txt', 'r') as file:\n",
        "    for line in file:\n",
        "        count += line.count(word)\n",
        "print(f\"'{word}' occurred {count} times.\")"
      ],
      "metadata": {
        "colab": {
          "base_uri": "https://localhost:8080/"
        },
        "id": "aMELveLsT8Zl",
        "outputId": "7e1207ba-867f-424b-eb5b-a18dca496943"
      },
      "execution_count": 25,
      "outputs": [
        {
          "output_type": "stream",
          "name": "stdout",
          "text": [
            "'Python' occurred 0 times.\n"
          ]
        }
      ]
    },
    {
      "cell_type": "markdown",
      "source": [
        "22. How can you check if a file is empty before attempting to read its contents?"
      ],
      "metadata": {
        "id": "XtaM5ke0T_QR"
      }
    },
    {
      "cell_type": "code",
      "source": [
        "import os\n",
        "\n",
        "if os.stat(\"file.txt\").st_size == 0:\n",
        "    print(\"File is empty.\")\n",
        "else:\n",
        "    with open(\"file.txt\") as f:\n",
        "        print(f.read())"
      ],
      "metadata": {
        "colab": {
          "base_uri": "https://localhost:8080/"
        },
        "id": "tEBEZ58pT_s6",
        "outputId": "0fdc3ba2-a028-4ab5-f9c2-31b48653b63a"
      },
      "execution_count": 29,
      "outputs": [
        {
          "output_type": "stream",
          "name": "stdout",
          "text": [
            "\n",
            "New line appended.\n",
            "New line appended.\n"
          ]
        }
      ]
    },
    {
      "cell_type": "markdown",
      "source": [
        "23. Write a Python program that writes to a log file when an error occurs during file handling."
      ],
      "metadata": {
        "id": "0BzB-p4mUIE7"
      }
    },
    {
      "cell_type": "code",
      "source": [
        "import logging\n",
        "\n",
        "logging.basicConfig(filename='file_errors.log', level=logging.ERROR)\n",
        "\n",
        "try:\n",
        "    with open('missing.txt', 'r') as f:\n",
        "        content = f.read()\n",
        "except FileNotFoundError as e:\n",
        "    logging.error(\"File error: %s\", e)"
      ],
      "metadata": {
        "colab": {
          "base_uri": "https://localhost:8080/"
        },
        "id": "sNq-CtrOUIYk",
        "outputId": "d814fc66-8354-429e-e97c-a26c3946be2a"
      },
      "execution_count": 30,
      "outputs": [
        {
          "output_type": "stream",
          "name": "stderr",
          "text": [
            "ERROR:root:File error: [Errno 2] No such file or directory: 'missing.txt'\n"
          ]
        }
      ]
    }
  ]
}